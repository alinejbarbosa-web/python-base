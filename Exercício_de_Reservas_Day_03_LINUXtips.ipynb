{
  "nbformat": 4,
  "nbformat_minor": 0,
  "metadata": {
    "colab": {
      "provenance": [],
      "authorship_tag": "ABX9TyO+2vzqASty3zRNJGHhgqRK",
      "include_colab_link": true
    },
    "kernelspec": {
      "name": "python3",
      "display_name": "Python 3"
    },
    "language_info": {
      "name": "python"
    }
  },
  "cells": [
    {
      "cell_type": "markdown",
      "metadata": {
        "id": "view-in-github",
        "colab_type": "text"
      },
      "source": [
        "<a href=\"https://colab.research.google.com/github/alinejbarbosa-web/python-base/blob/main/Exerc%C3%ADcio_de_Reservas_Day_03_LINUXtips.ipynb\" target=\"_parent\"><img src=\"https://colab.research.google.com/assets/colab-badge.svg\" alt=\"Open In Colab\"/></a>"
      ]
    },
    {
      "cell_type": "code",
      "execution_count": 1,
      "metadata": {
        "colab": {
          "base_uri": "https://localhost:8080/",
          "height": 105
        },
        "id": "Rzu_pR-fyyRb",
        "outputId": "c7b8357e-1d55-4f0e-df0d-761bbd710a62"
      },
      "outputs": [
        {
          "output_type": "execute_result",
          "data": {
            "text/plain": [
              "'\\n# Faça um programa de terminal que exibe ao usuário uma listas dos quartos\\ndisponiveis para alugar e o preço de cada quarto, esta informação está\\ndisponível em um arquivo de texto separado por virgulas.\\n`quartos.txt`\\n# codigo, nome, preço\\n1,Suite Master,500\\n2,Quarto Familia,200\\n3,Quarto Single,100\\n4,Quarto Simples,50\\nO programa pergunta ao usuário o nome, qual o número do quarto a ser reservado\\ne a quantidade de dias e no final exibe o valor estimado a ser pago.\\nO programa deve salvar esta escolha em outro arquivo contendo as reservas\\n`reservas.txt`\\n# cliente, quarto, dias\\nBruno,3,12\\nSe outro usuário tentar reservar o mesmo quarto o programa deve exibir uma\\nmensagem informando que já está reservado.\\n'"
            ],
            "application/vnd.google.colaboratory.intrinsic+json": {
              "type": "string"
            }
          },
          "metadata": {},
          "execution_count": 1
        }
      ],
      "source": [
        "\"\"\"\n",
        "# Faça um programa de terminal que exibe ao usuário uma listas dos quartos\n",
        "disponiveis para alugar e o preço de cada quarto, esta informação está\n",
        "disponível em um arquivo de texto separado por virgulas.\n",
        "`quartos.txt`\n",
        "# codigo, nome, preço\n",
        "1,Suite Master,500\n",
        "2,Quarto Familia,200\n",
        "3,Quarto Single,100\n",
        "4,Quarto Simples,50\n",
        "O programa pergunta ao usuário o nome, qual o número do quarto a ser reservado\n",
        "e a quantidade de dias e no final exibe o valor estimado a ser pago.\n",
        "O programa deve salvar esta escolha em outro arquivo contendo as reservas\n",
        "`reservas.txt`\n",
        "# cliente, quarto, dias\n",
        "Bruno,3,12\n",
        "Se outro usuário tentar reservar o mesmo quarto o programa deve exibir uma\n",
        "mensagem informando que já está reservado.\n",
        "\"\"\""
      ]
    },
    {
      "cell_type": "code",
      "source": [
        "import sys\n",
        "import logging\n",
        "import os\n",
        "\n",
        "RESERVAS_FILE = \"reservas.txt\"\n",
        "QUARTOS_FILE = \"quartos.txt\"\n",
        "\n",
        "# Acesso ao banco de dados\n",
        "\n",
        "# TODO: Usar pacote csv\n",
        "\n",
        "ocupados = {}  # acumulador\n",
        "try:\n",
        "    if os.path.exists(RESERVAS_FILE):\n",
        "        with open(RESERVAS_FILE, \"r\") as f:\n",
        "            for line in f:\n",
        "                nome_cliente, num_quarto, dias = line.strip().split(\",\")\n",
        "                ocupados[int(num_quarto)] = {\n",
        "                    \"nome_cliente\": nome_cliente,\n",
        "                    \"dias\": int(dias),\n",
        "                }\n",
        "    else:\n",
        "        # Create the file if it doesn't exist\n",
        "        with open(RESERVAS_FILE, \"w\") as f:\n",
        "            pass # Create an empty file\n",
        "except Exception as e:\n",
        "    logging.error(\"Erro ao ler arquivo %s: %s\", RESERVAS_FILE, e)\n",
        "    sys.exit(1)\n",
        "\n",
        "\n",
        "# TODO: Usar função para ler os arquivos\n",
        "\n",
        "quartos = {}  # acumulador\n",
        "try:\n",
        "    for line in open(QUARTOS_FILE):\n",
        "        num_quarto, nome_quarto, preco = line.strip().split(\",\")\n",
        "        quartos[int(num_quarto)] = {\n",
        "            \"nome_quarto\": nome_quarto,\n",
        "            \"preco\": float(preco),  # TODO: Usar Decimal\n",
        "            \"disponivel\": False if int(num_quarto) in ocupados else True,\n",
        "        }\n",
        "except FileNotFoundError:\n",
        "    logging.error(\"arquivo %s não existe\", QUARTOS_FILE)\n",
        "    sys.exit(1)\n",
        "except Exception as e:\n",
        "    logging.error(\"Erro ao ler arquivo %s: %s\", QUARTOS_FILE, e)\n",
        "    sys.exit(1)\n",
        "\n",
        "\n",
        "# Programa principal\n",
        "print(\"Reservas no Hotel Pythonico da Linux Tips\")\n",
        "print(\"-\" * 52)\n",
        "if len(ocupados) == len(quartos):\n",
        "    print(\"Hotel está lotado, volte depois.\")\n",
        "    sys.exit(0)\n",
        "\n",
        "nome_cliente = input(\"Qual é o seu nome:\").strip()\n",
        "print()\n",
        "\n",
        "# TODO: Usar rich.Table\n",
        "print(\"Lista de quartos\")\n",
        "print()\n",
        "head = [\"Número\", \"Nome do Quarto\", \"Preço\", \"Disponível\"]\n",
        "print(f\"{head[0]:<6} - {head[1]:<14} - R$ {head[2]:<9} - {head[3]:<10}\")\n",
        "for num_quarto, dados_quarto in quartos.items():\n",
        "    nome_quarto = dados_quarto[\"nome_quarto\"]\n",
        "    preco = dados_quarto[\"preco\"]\n",
        "    disponivel = \"⛔\" if not dados_quarto[\"disponivel\"] else \"👍\"\n",
        "    print(\n",
        "        f\"{num_quarto:<6} - {nome_quarto:<14} - \" f\"R$ {preco:<9.2f} - {disponivel:<10}\"\n",
        "    )\n",
        "\n",
        "print(\"-\" * 52)\n",
        "# reserva\n",
        "\n",
        "try:\n",
        "    num_quarto = int(input(\"Qual o quarto desejado:\").strip())\n",
        "    if num_quarto not in quartos:\n",
        "        print(f\"O Quarto {num_quarto} não existe.\")\n",
        "        sys.exit(0)\n",
        "    if not quartos[num_quarto][\"disponivel\"]:\n",
        "        print(f\"O quarto {num_quarto} está ocupado, escolha outro.\")\n",
        "        sys.exit(0)\n",
        "except ValueError:\n",
        "    print(\"Número inválido, digite apenas digitos.\")\n",
        "    sys.exit(0)\n",
        "\n",
        "\n",
        "try:\n",
        "    dias = int(input(\"Quantos dias:\").strip())\n",
        "    if dias <= 0:\n",
        "        print(\"O número de dias deve ser maior que zero.\")\n",
        "        sys.exit(0)\n",
        "except ValueError:\n",
        "    print(\"Número inválido, digite apenas digitos.\")\n",
        "    sys.exit(0)\n",
        "\n",
        "nome_quarto = quartos[num_quarto][\"nome_quarto\"]\n",
        "preco_diaria = quartos[num_quarto][\"preco\"]\n",
        "total = dias * preco_diaria\n",
        "\n",
        "print(\n",
        "    f\"Olá {nome_cliente}, você escolheu o quarto {nome_quarto} \"\n",
        "    f\"o valor total estimado será R$ {total:.2f}\"\n",
        ")\n",
        "\n",
        "if input(\"Confirma? (digite y)\").strip().lower() in (\"y\", \"yes\", \"sim\", \"s\"):\n",
        "    with open(RESERVAS_FILE, \"a\") as reserva_file:\n",
        "        reserva_file.write(f\"{nome_cliente},{num_quarto},{dias}\\n\")"
      ],
      "metadata": {
        "colab": {
          "base_uri": "https://localhost:8080/"
        },
        "id": "mi_UtiF-y2sv",
        "outputId": "fadaadee-a36e-42d9-d2ac-37fcb726ebe9"
      },
      "execution_count": 6,
      "outputs": [
        {
          "name": "stdout",
          "output_type": "stream",
          "text": [
            "Reservas no Hotel Pythonico da Linux Tips\n",
            "----------------------------------------------------\n",
            "Qual é o seu nome:Aline\n",
            "\n",
            "Lista de quartos\n",
            "\n",
            "Número - Nome do Quarto - R$ Preço     - Disponível\n",
            "1      - Suite Master   - R$ 500.00    - ⛔         \n",
            "2      - Quarto Familia - R$ 200.00    - 👍         \n",
            "3      - Quarto Single  - R$ 100.00    - 👍         \n",
            "4      - Quarto Simples - R$ 50.00     - 👍         \n",
            "----------------------------------------------------\n",
            "Qual o quarto desejado:2\n",
            "Quantos dias:7\n",
            "Olá Aline, você escolheu o quarto Quarto Familia o valor total estimado será R$ 1400.00\n",
            "Confirma? (digite y)y\n"
          ]
        }
      ]
    }
  ]
}