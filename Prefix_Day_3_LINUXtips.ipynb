{
  "nbformat": 4,
  "nbformat_minor": 0,
  "metadata": {
    "colab": {
      "provenance": [],
      "authorship_tag": "ABX9TyNcBCD+r+x/VKAxcAcJg18I",
      "include_colab_link": true
    },
    "kernelspec": {
      "name": "python3",
      "display_name": "Python 3"
    },
    "language_info": {
      "name": "python"
    }
  },
  "cells": [
    {
      "cell_type": "markdown",
      "metadata": {
        "id": "view-in-github",
        "colab_type": "text"
      },
      "source": [
        "<a href=\"https://colab.research.google.com/github/alinejbarbosa-web/python-base/blob/main/Prefix_Day_3_LINUXtips.ipynb\" target=\"_parent\"><img src=\"https://colab.research.google.com/assets/colab-badge.svg\" alt=\"Open In Colab\"/></a>"
      ]
    },
    {
      "cell_type": "code",
      "source": [
        "print(\"=== Calculadora Básica ===\")\n",
        "\n",
        "n1 = float(input(\"Digite o primeiro número: \"))\n",
        "n2 = float(input(\"Digite o segundo número: \"))\n",
        "\n",
        "print(\"Operações disponíveis: +  -  *  /\")\n",
        "operacao = input(\"Escolha a operação: \")\n",
        "\n",
        "if operacao == \"+\":\n",
        "    resultado = n1 + n2\n",
        "elif operacao == \"-\":\n",
        "    resultado = n1 - n2\n",
        "elif operacao == \"*\":\n",
        "    resultado = n1 * n2\n",
        "elif operacao == \"/\":\n",
        "    if n2 != 0:\n",
        "        resultado = n1 / n2\n",
        "    else:\n",
        "        resultado = \"Erro! Divisão por zero.\"\n",
        "else:\n",
        "    resultado = \"Operação inválida!\"\n",
        "\n",
        "print(\"Resultado:\", resultado)"
      ],
      "metadata": {
        "colab": {
          "base_uri": "https://localhost:8080/"
        },
        "id": "3Y9y5bIm74tG",
        "outputId": "1d24d087-7bf9-4120-8d73-e47ebf832e1b"
      },
      "execution_count": 32,
      "outputs": [
        {
          "output_type": "stream",
          "name": "stdout",
          "text": [
            "=== Calculadora Básica ===\n",
            "Digite o primeiro número: 2\n",
            "Digite o segundo número: 3\n",
            "Operações disponíveis: +  -  *  /\n",
            "Escolha a operação: +\n",
            "Resultado: 5.0\n"
          ]
        }
      ]
    },
    {
      "cell_type": "code",
      "source": [
        "import random\n",
        "\n",
        "print(\"=== Jogo: Adivinhe o Número ===\")\n",
        "\n",
        "# sorteia número entre 1 e 100\n",
        "numero_secreto = random.randint(1, 100)\n",
        "tentativas = 0\n",
        "acertou = False\n",
        "\n",
        "while not acertou:\n",
        "    palpite = int(input(\"Digite seu palpite (entre 1 e 100): \"))\n",
        "    tentativas += 1\n",
        "\n",
        "    if palpite < numero_secreto:\n",
        "        print(\"Muito baixo! 📉\")\n",
        "    elif palpite > numero_secreto:\n",
        "        print(\"Muito alto! 📈\")\n",
        "    else:\n",
        "        print(f\"🎉 Parabéns! Você acertou o número {numero_secreto} em {tentativas} tentativas.\")\n",
        "        acertou = True"
      ],
      "metadata": {
        "colab": {
          "base_uri": "https://localhost:8080/"
        },
        "id": "1UgNRydQ8UdG",
        "outputId": "f16e4977-4f1e-4ed9-d143-8048263cb6e5"
      },
      "execution_count": 33,
      "outputs": [
        {
          "output_type": "stream",
          "name": "stdout",
          "text": [
            "=== Jogo: Adivinhe o Número ===\n",
            "Digite seu palpite (entre 1 e 100): 22\n",
            "Muito baixo! 📉\n",
            "Digite seu palpite (entre 1 e 100): 47\n",
            "Muito baixo! 📉\n",
            "Digite seu palpite (entre 1 e 100): 79\n",
            "Muito alto! 📈\n",
            "Digite seu palpite (entre 1 e 100): 81\n",
            "Muito alto! 📈\n",
            "Digite seu palpite (entre 1 e 100): 55\n",
            "Muito baixo! 📉\n",
            "Digite seu palpite (entre 1 e 100): 67\n",
            "Muito baixo! 📉\n",
            "Digite seu palpite (entre 1 e 100): 71\n",
            "Muito baixo! 📉\n",
            "Digite seu palpite (entre 1 e 100): 72\n",
            "Muito baixo! 📉\n",
            "Digite seu palpite (entre 1 e 100): 73\n",
            "Muito baixo! 📉\n",
            "Digite seu palpite (entre 1 e 100): 74\n",
            "🎉 Parabéns! Você acertou o número 74 em 10 tentativas.\n"
          ]
        }
      ]
    },
    {
      "cell_type": "code",
      "source": [
        "import random\n",
        "\n",
        "print(\"=== Jogo da Forca ===\")\n",
        "\n",
        "# lista de palavras possíveis\n",
        "palavras = [\"python\", \"programacao\", \"laboratorio\", \"biomedicina\", \"dados\", \"inteligencia\"]\n",
        "\n",
        "# escolhe uma palavra aleatória\n",
        "palavra_secreta = random.choice(palavras)\n",
        "letras_descobertas = [\"_\"] * len(palavra_secreta)\n",
        "tentativas = 6  # chances\n",
        "\n",
        "while tentativas > 0 and \"_\" in letras_descobertas:\n",
        "    print(\"\\nPalavra: \", \" \".join(letras_descobertas))\n",
        "    print(f\"Tentativas restantes: {tentativas}\")\n",
        "    letra = input(\"Digite uma letra: \").lower()\n",
        "\n",
        "    if letra in palavra_secreta:\n",
        "        for i, l in enumerate(palavra_secreta):\n",
        "            if l == letra:\n",
        "                letras_descobertas[i] = letra\n",
        "        print(\"✅ Boa! A letra existe.\")\n",
        "    else:\n",
        "        tentativas -= 1\n",
        "        print(\"❌ Ops! Essa letra não existe.\")\n",
        "\n",
        "if \"_\" not in letras_descobertas:\n",
        "    print(f\"\\n🎉 Parabéns! Você adivinhou a palavra: {palavra_secreta}\")\n",
        "else:\n",
        "    print(f\"\\n💀 Fim de jogo! A palavra era: {palavra_secreta}\")"
      ],
      "metadata": {
        "colab": {
          "base_uri": "https://localhost:8080/"
        },
        "id": "3TE949O59JFo",
        "outputId": "b962a5fa-6988-4181-d5a6-b41da9f8707a"
      },
      "execution_count": 34,
      "outputs": [
        {
          "output_type": "stream",
          "name": "stdout",
          "text": [
            "=== Jogo da Forca ===\n",
            "\n",
            "Palavra:  _ _ _ _ _ _ _ _ _ _ _\n",
            "Tentativas restantes: 6\n",
            "Digite uma letra: a\n",
            "✅ Boa! A letra existe.\n",
            "\n",
            "Palavra:  _ a _ _ _ a _ _ _ _ _\n",
            "Tentativas restantes: 6\n",
            "Digite uma letra: d\n",
            "❌ Ops! Essa letra não existe.\n",
            "\n",
            "Palavra:  _ a _ _ _ a _ _ _ _ _\n",
            "Tentativas restantes: 5\n",
            "Digite uma letra: f\n",
            "❌ Ops! Essa letra não existe.\n",
            "\n",
            "Palavra:  _ a _ _ _ a _ _ _ _ _\n",
            "Tentativas restantes: 4\n",
            "Digite uma letra: s\n",
            "❌ Ops! Essa letra não existe.\n",
            "\n",
            "Palavra:  _ a _ _ _ a _ _ _ _ _\n",
            "Tentativas restantes: 3\n",
            "Digite uma letra: p\n",
            "❌ Ops! Essa letra não existe.\n",
            "\n",
            "Palavra:  _ a _ _ _ a _ _ _ _ _\n",
            "Tentativas restantes: 2\n",
            "Digite uma letra: m\n",
            "❌ Ops! Essa letra não existe.\n",
            "\n",
            "Palavra:  _ a _ _ _ a _ _ _ _ _\n",
            "Tentativas restantes: 1\n",
            "Digite uma letra: g\n",
            "❌ Ops! Essa letra não existe.\n",
            "\n",
            "💀 Fim de jogo! A palavra era: laboratorio\n"
          ]
        }
      ]
    },
    {
      "cell_type": "code",
      "source": [
        "import random\n",
        "\n",
        "print(\"=== Jogo: Descubra a Conta ===\")\n",
        "\n",
        "# operações possíveis\n",
        "operacoes = [\"+\", \"-\", \"*\"]\n",
        "\n",
        "# sorteia números e operação\n",
        "n1 = random.randint(1, 10)\n",
        "n2 = random.randint(1, 10)\n",
        "operacao = random.choice(operacoes)\n",
        "\n",
        "# calcula o resultado\n",
        "if operacao == \"+\":\n",
        "    resultado = n1 + n2\n",
        "elif operacao == \"-\":\n",
        "    resultado = n1 - n2\n",
        "else:\n",
        "    resultado = n1 * n2\n",
        "\n",
        "print(f\"\\n👉 O resultado da conta é: {resultado}\")\n",
        "print(\"Você precisa adivinhar qual foi a operação (+, -, *)\")\n",
        "\n",
        "palpite = input(f\"Qual operação foi usada entre {n1} e {n2}? \")\n",
        "\n",
        "if palpite == operacao:\n",
        "    print(f\"🎉 Acertou! A conta era {n1} {operacao} {n2} = {resultado}\")\n",
        "else:\n",
        "    print(f\"❌ Errou! A conta era {n1} {operacao} {n2} = {resultado}\")"
      ],
      "metadata": {
        "colab": {
          "base_uri": "https://localhost:8080/"
        },
        "id": "uMisAILM9nV6",
        "outputId": "0c6ae62e-44ab-4756-f38a-de3bc687fabd"
      },
      "execution_count": 35,
      "outputs": [
        {
          "output_type": "stream",
          "name": "stdout",
          "text": [
            "=== Jogo: Descubra a Conta ===\n",
            "\n",
            "👉 O resultado da conta é: 5\n",
            "Você precisa adivinhar qual foi a operação (+, -, *)\n",
            "Qual operação foi usada entre 6 e 1? -\n",
            "🎉 Acertou! A conta era 6 - 1 = 5\n"
          ]
        }
      ]
    },
    {
      "cell_type": "code",
      "source": [
        "import random\n",
        "\n",
        "print(\"=== Jogo do Prefixo ===\")\n",
        "\n",
        "# operações válidas\n",
        "operacoes = {\n",
        "    \"sum\": lambda a, b: a + b,\n",
        "    \"sub\": lambda a, b: a - b,\n",
        "    \"mul\": lambda a, b: a * b,\n",
        "    \"div\": lambda a, b: a / b if b != 0 else None\n",
        "}\n",
        "\n",
        "# sorteia\n",
        "n1 = random.randint(1, 10)\n",
        "n2 = random.randint(1, 10)\n",
        "operacao = random.choice(list(operacoes.keys()))\n",
        "\n",
        "resultado = operacoes[operacao](n1, n2)\n",
        "\n",
        "print(f\"\\n👉 Resolva: {operacao} {n1} {n2}\")\n",
        "\n",
        "resposta = input(\"Qual é o resultado? \")\n",
        "\n",
        "try:\n",
        "    resposta = float(resposta)\n",
        "    if abs(resposta - resultado) < 0.0001:  # tolerância pra divisão\n",
        "        print(\"🎉 Acertou!\")\n",
        "    else:\n",
        "        print(f\"❌ Errou! O resultado correto era {resultado}\")\n",
        "except ValueError:\n",
        "    print(\"⚠️ Você precisa digitar um número.\")"
      ],
      "metadata": {
        "colab": {
          "base_uri": "https://localhost:8080/"
        },
        "id": "OqDUSDgA98l8",
        "outputId": "9f6e1d72-04db-49b8-f39d-f8dcaf145c3d"
      },
      "execution_count": 36,
      "outputs": [
        {
          "output_type": "stream",
          "name": "stdout",
          "text": [
            "=== Jogo do Prefixo ===\n",
            "\n",
            "👉 Resolva: mul 2 4\n",
            "Qual é o resultado? 8\n",
            "🎉 Acertou!\n"
          ]
        }
      ]
    }
  ]
}