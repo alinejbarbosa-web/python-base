{
  "nbformat": 4,
  "nbformat_minor": 0,
  "metadata": {
    "colab": {
      "provenance": [],
      "authorship_tag": "ABX9TyN4ktdwAWelM9ZEkRqDrFVv",
      "include_colab_link": true
    },
    "kernelspec": {
      "name": "python3",
      "display_name": "Python 3"
    },
    "language_info": {
      "name": "python"
    }
  },
  "cells": [
    {
      "cell_type": "markdown",
      "metadata": {
        "id": "view-in-github",
        "colab_type": "text"
      },
      "source": [
        "<a href=\"https://colab.research.google.com/github/alinejbarbosa-web/python-base/blob/main/Exerc%C3%ADcio_de_Fixa%C3%A7%C3%A3o_Day_03_LINUXtips.ipynb\" target=\"_parent\"><img src=\"https://colab.research.google.com/assets/colab-badge.svg\" alt=\"Open In Colab\"/></a>"
      ]
    },
    {
      "cell_type": "code",
      "execution_count": 3,
      "metadata": {
        "colab": {
          "base_uri": "https://localhost:8080/"
        },
        "id": "7UnNLVuAwOqs",
        "outputId": "02fc586d-9abd-4658-dfa9-c2565231d6bd"
      },
      "outputs": [
        {
          "output_type": "execute_result",
          "data": {
            "text/plain": [
              "Ellipsis"
            ]
          },
          "metadata": {},
          "execution_count": 3
        }
      ],
      "source": [
        "#Exercicios\n",
        "#Agora vamos fazer uma série de exercícios de fixação.\n",
        "\n",
        "#Faça um programa que imprime os números pares de 1 a 200\n",
        "#ex python numeros_pares.py\n",
        "\n",
        "2\n",
        "4\n",
        "6\n",
        "8\n",
        "..."
      ]
    },
    {
      "cell_type": "code",
      "source": [
        "for numero in range(2, 201, 2):\n",
        "    print(numero)"
      ],
      "metadata": {
        "colab": {
          "base_uri": "https://localhost:8080/"
        },
        "id": "YaLR7ydrwVm6",
        "outputId": "1358982d-5cb8-45ad-f99d-8595b0421f80"
      },
      "execution_count": 4,
      "outputs": [
        {
          "output_type": "stream",
          "name": "stdout",
          "text": [
            "2\n",
            "4\n",
            "6\n",
            "8\n",
            "10\n",
            "12\n",
            "14\n",
            "16\n",
            "18\n",
            "20\n",
            "22\n",
            "24\n",
            "26\n",
            "28\n",
            "30\n",
            "32\n",
            "34\n",
            "36\n",
            "38\n",
            "40\n",
            "42\n",
            "44\n",
            "46\n",
            "48\n",
            "50\n",
            "52\n",
            "54\n",
            "56\n",
            "58\n",
            "60\n",
            "62\n",
            "64\n",
            "66\n",
            "68\n",
            "70\n",
            "72\n",
            "74\n",
            "76\n",
            "78\n",
            "80\n",
            "82\n",
            "84\n",
            "86\n",
            "88\n",
            "90\n",
            "92\n",
            "94\n",
            "96\n",
            "98\n",
            "100\n",
            "102\n",
            "104\n",
            "106\n",
            "108\n",
            "110\n",
            "112\n",
            "114\n",
            "116\n",
            "118\n",
            "120\n",
            "122\n",
            "124\n",
            "126\n",
            "128\n",
            "130\n",
            "132\n",
            "134\n",
            "136\n",
            "138\n",
            "140\n",
            "142\n",
            "144\n",
            "146\n",
            "148\n",
            "150\n",
            "152\n",
            "154\n",
            "156\n",
            "158\n",
            "160\n",
            "162\n",
            "164\n",
            "166\n",
            "168\n",
            "170\n",
            "172\n",
            "174\n",
            "176\n",
            "178\n",
            "180\n",
            "182\n",
            "184\n",
            "186\n",
            "188\n",
            "190\n",
            "192\n",
            "194\n",
            "196\n",
            "198\n",
            "200\n"
          ]
        }
      ]
    },
    {
      "cell_type": "code",
      "source": [
        "# Criando o arquivo numeros_pares.py (DICA EXTRA COM .py)\n",
        "with open(\"numeros_pares.py\", \"w\") as f:\n",
        "    f.write(\"\"\"\n",
        "for numero in range(2, 201, 2):\n",
        "    print(numero)\n",
        "\"\"\")\n",
        "\n",
        "# Rodando o arquivo\n",
        "!python numeros_pares.py"
      ],
      "metadata": {
        "colab": {
          "base_uri": "https://localhost:8080/"
        },
        "id": "5HbD1cZjwq3j",
        "outputId": "0162ce67-4daf-4a88-dbbc-908d2e0b7f1b"
      },
      "execution_count": 6,
      "outputs": [
        {
          "output_type": "stream",
          "name": "stdout",
          "text": [
            "2\n",
            "4\n",
            "6\n",
            "8\n",
            "10\n",
            "12\n",
            "14\n",
            "16\n",
            "18\n",
            "20\n",
            "22\n",
            "24\n",
            "26\n",
            "28\n",
            "30\n",
            "32\n",
            "34\n",
            "36\n",
            "38\n",
            "40\n",
            "42\n",
            "44\n",
            "46\n",
            "48\n",
            "50\n",
            "52\n",
            "54\n",
            "56\n",
            "58\n",
            "60\n",
            "62\n",
            "64\n",
            "66\n",
            "68\n",
            "70\n",
            "72\n",
            "74\n",
            "76\n",
            "78\n",
            "80\n",
            "82\n",
            "84\n",
            "86\n",
            "88\n",
            "90\n",
            "92\n",
            "94\n",
            "96\n",
            "98\n",
            "100\n",
            "102\n",
            "104\n",
            "106\n",
            "108\n",
            "110\n",
            "112\n",
            "114\n",
            "116\n",
            "118\n",
            "120\n",
            "122\n",
            "124\n",
            "126\n",
            "128\n",
            "130\n",
            "132\n",
            "134\n",
            "136\n",
            "138\n",
            "140\n",
            "142\n",
            "144\n",
            "146\n",
            "148\n",
            "150\n",
            "152\n",
            "154\n",
            "156\n",
            "158\n",
            "160\n",
            "162\n",
            "164\n",
            "166\n",
            "168\n",
            "170\n",
            "172\n",
            "174\n",
            "176\n",
            "178\n",
            "180\n",
            "182\n",
            "184\n",
            "186\n",
            "188\n",
            "190\n",
            "192\n",
            "194\n",
            "196\n",
            "198\n",
            "200\n"
          ]
        }
      ]
    },
    {
      "cell_type": "code",
      "source": [
        "# repete_vogal.py\n",
        "\n",
        "def duplicar_vogais(palavra):\n",
        "    vogais = \"aeiouAEIOU\"\n",
        "    nova_palavra = \"\"\n",
        "    for letra in palavra:\n",
        "        if letra in vogais:\n",
        "            nova_palavra += letra * 2  # duplica a vogal\n",
        "        else:\n",
        "            nova_palavra += letra\n",
        "    return nova_palavra\n",
        "\n",
        "while True:\n",
        "    palavra = input(\"Digite uma palavra (ou enter para sair): \")\n",
        "    if palavra == \"\":\n",
        "        break\n",
        "    print(duplicar_vogais(palavra))"
      ],
      "metadata": {
        "colab": {
          "base_uri": "https://localhost:8080/"
        },
        "id": "aUvuK6NRxB7N",
        "outputId": "e45beabf-d28e-4c95-b7b4-f06fe9a4e4b8"
      },
      "execution_count": 9,
      "outputs": [
        {
          "name": "stdout",
          "output_type": "stream",
          "text": [
            "Digite uma palavra (ou enter para sair): amor\n",
            "aamoor\n",
            "Digite uma palavra (ou enter para sair): \n"
          ]
        }
      ]
    },
    {
      "cell_type": "code",
      "source": [
        "# Pergunta ao usuário a temperatura e a umidade\n",
        "temperatura = float(input(\"Temperatura: \"))\n",
        "umidade = float(input(\"Umidade: \"))\n",
        "\n",
        "# Verifica as condições e exibe a mensagem correspondente\n",
        "if temperatura > 45:\n",
        "    print(\"ALERTA!!! 🥵 Perigo calor extremo\")\n",
        "elif temperatura > 30 and temperatura * 3 >= umidade:\n",
        "    print(\"ALERTA!!! 🥵♒ Perigo de calor úmido\")\n",
        "elif 10 <= temperatura <= 30:\n",
        "    print(\"😀 Normal\")\n",
        "elif 0 <= temperatura < 10:\n",
        "    print(\"🥶 Frio\")\n",
        "else:  # temperatura < 0\n",
        "    print(\"ALERTA!!! ⛄ Frio Extremo.\")"
      ],
      "metadata": {
        "colab": {
          "base_uri": "https://localhost:8080/"
        },
        "id": "7T4baptbxZ25",
        "outputId": "250a562c-e5f0-481e-812e-b17f09475b35"
      },
      "execution_count": 10,
      "outputs": [
        {
          "output_type": "stream",
          "name": "stdout",
          "text": [
            "Temperatura: 17\n",
            "Umidade: 90\n",
            "😀 Normal\n"
          ]
        }
      ]
    }
  ]
}