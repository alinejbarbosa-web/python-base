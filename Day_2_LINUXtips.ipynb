{
  "nbformat": 4,
  "nbformat_minor": 0,
  "metadata": {
    "colab": {
      "provenance": [],
      "authorship_tag": "ABX9TyPgbdDYrkjaWP7DKQnYj4Vz",
      "include_colab_link": true
    },
    "kernelspec": {
      "name": "python3",
      "display_name": "Python 3"
    },
    "language_info": {
      "name": "python"
    }
  },
  "cells": [
    {
      "cell_type": "markdown",
      "metadata": {
        "id": "view-in-github",
        "colab_type": "text"
      },
      "source": [
        "<a href=\"https://colab.research.google.com/github/alinejbarbosa-web/python-base/blob/main/Day_2_LINUXtips.ipynb\" target=\"_parent\"><img src=\"https://colab.research.google.com/assets/colab-badge.svg\" alt=\"Open In Colab\"/></a>"
      ]
    },
    {
      "cell_type": "code",
      "execution_count": 1,
      "metadata": {
        "id": "VauHjT9AXlP2"
      },
      "outputs": [],
      "source": [
        "#!/usr/bin/env python3\n",
        "\"\"\"Exibe relatório de crianças por atividade.\n",
        "\n",
        "Imprimir a lista de crianças agrupadas por sala\n",
        "que frequentas cada uma das atividades.\n",
        "\"\"\"\n",
        "__version__ = \"0.1.0\"\n",
        "\n",
        "# Dados\n",
        "sala1 = [\"Erik\", \"Maia\", \"Gustavo\", \"Manuel\", \"Sofia\", \"Joana\"]\n",
        "sala2 = [\"Joao\", \"Antonio\", \"Carlos\", \"Maria\", \"Isolda\"]\n",
        "\n",
        "aula_ingles = [\"Erik\", \"Maia\", \"Joana\", \"Carlos\", \"Antonio\"]\n",
        "aula_musica = [\"Erik\", \"Carlos\", \"Maria\"]\n",
        "aula_danca = [\"Gustavo\", \"Sofia\", \"Joana\", \"Antonio\"]\n",
        "\n",
        "# Listar alunos em cada atividade por sala\n",
        "# CONTINUE O CÓDIGO AQUI"
      ]
    },
    {
      "cell_type": "code",
      "source": [
        "# Listar alunos em cada atividade por sala\n",
        "atividades = {\n",
        "    \"Inglês\": aula_ingles,\n",
        "    \"Música\": aula_musica,\n",
        "    \"Dança\": aula_danca\n",
        "}\n",
        "\n",
        "salas = {\n",
        "    \"Sala 1\": sala1,\n",
        "    \"Sala 2\": sala2\n",
        "}"
      ],
      "metadata": {
        "id": "De0UWtl5XpYX"
      },
      "execution_count": 2,
      "outputs": []
    },
    {
      "cell_type": "code",
      "source": [
        "for nome_sala, alunos_sala in salas.items():\n",
        "    print(f\"\\n{nome_sala}:\")\n",
        "    for nome_atividade, alunos_atividade in atividades.items():\n",
        "        # Pegar apenas os alunos da sala que estão na atividade\n",
        "        alunos_na_atividade = [aluno for aluno in alunos_sala if aluno in alunos_atividade]\n",
        "        print(f\"  {nome_atividade}: {', '.join(alunos_na_atividade) if alunos_na_atividade else 'Nenhum'}\")\n"
      ],
      "metadata": {
        "colab": {
          "base_uri": "https://localhost:8080/"
        },
        "id": "6ehL9kK6XxXT",
        "outputId": "4d1175c3-2be6-45d3-8b66-809548fe5ae3"
      },
      "execution_count": 4,
      "outputs": [
        {
          "output_type": "stream",
          "name": "stdout",
          "text": [
            "\n",
            "Sala 1:\n",
            "  Inglês: Erik, Maia, Joana\n",
            "  Música: Erik\n",
            "  Dança: Gustavo, Sofia, Joana\n",
            "\n",
            "Sala 2:\n",
            "  Inglês: Antonio, Carlos\n",
            "  Música: Carlos, Maria\n",
            "  Dança: Antonio\n"
          ]
        }
      ]
    }
  ]
}