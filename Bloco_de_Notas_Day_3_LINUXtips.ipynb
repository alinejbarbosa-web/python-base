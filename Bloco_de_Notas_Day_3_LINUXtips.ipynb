{
  "nbformat": 4,
  "nbformat_minor": 0,
  "metadata": {
    "colab": {
      "provenance": [],
      "authorship_tag": "ABX9TyM9EN69uFqju4jSwovZ6LkD",
      "include_colab_link": true
    },
    "kernelspec": {
      "name": "python3",
      "display_name": "Python 3"
    },
    "language_info": {
      "name": "python"
    }
  },
  "cells": [
    {
      "cell_type": "markdown",
      "metadata": {
        "id": "view-in-github",
        "colab_type": "text"
      },
      "source": [
        "<a href=\"https://colab.research.google.com/github/alinejbarbosa-web/python-base/blob/main/Bloco_de_Notas_Day_3_LINUXtips.ipynb\" target=\"_parent\"><img src=\"https://colab.research.google.com/assets/colab-badge.svg\" alt=\"Open In Colab\"/></a>"
      ]
    },
    {
      "cell_type": "code",
      "source": [
        "import sys\n",
        "import os\n",
        "\n",
        "# =========================\n",
        "# Simulando argumentos de linha de comando\n",
        "# =========================\n",
        "# Exemplo: criar uma nova nota\n",
        "sys.argv = [\"notes.py\", \"new\", \"MinhaNota\"]\n",
        "\n",
        "# =========================\n",
        "# Script do bloco de notas\n",
        "# =========================\n",
        "cmds = (\"read\", \"new\")\n",
        "path = os.curdir\n",
        "filepath = os.path.join(path, \"notes.txt\")\n",
        "\n",
        "arguments = sys.argv[1:]\n",
        "if not arguments:\n",
        "    print(\"Invalid usage\")\n",
        "    print(f\"You must specify a subcommand {cmds}\")\n",
        "    print(\"Exemplo: python notes.py new \\\"Teste\\\"\")\n",
        "    sys.exit(1)\n",
        "\n",
        "if arguments[0] not in cmds:\n",
        "    print(f\"Invalid command {arguments[0]}\")\n",
        "    sys.exit(1)\n",
        "\n",
        "if arguments[0] == \"read\":\n",
        "    if len(arguments) < 2:\n",
        "        print(\"Você deve informar uma tag ou 'all'.\")\n",
        "        sys.exit(1)\n",
        "    filtro = arguments[1].lower()\n",
        "\n",
        "    if not os.path.exists(filepath):\n",
        "        print(\"Nenhuma nota encontrada ainda.\")\n",
        "        sys.exit(0)\n",
        "\n",
        "    for line in open(filepath):\n",
        "        title, tag, text = line.strip().split(\"\\t\")\n",
        "        if filtro == \"all\" or tag.lower() == filtro:\n",
        "            print(f\"title: {title}\")\n",
        "            print(f\"tag: {tag}\")\n",
        "            print(f\"text: {text}\")\n",
        "            print(\"-\" * 30)\n",
        "            print()\n",
        "\n",
        "if arguments[0] == \"new\":\n",
        "    if len(arguments) < 2:\n",
        "        print(\"Você deve informar o título da nota.\")\n",
        "        sys.exit(1)\n",
        "    title = arguments[1]\n",
        "    tag = input(\"tag: \").strip()\n",
        "    text = input(\"text:\\n\").strip()\n",
        "    with open(filepath, \"a\") as file_:\n",
        "        file_.write(\"\\t\".join([title, tag, text]) + \"\\n\")\n",
        "    print(\"✅ Nota salva com sucesso!\")"
      ],
      "metadata": {
        "colab": {
          "base_uri": "https://localhost:8080/"
        },
        "id": "rCWcho_UF3M2",
        "outputId": "ffea3e19-9fa8-4312-c3da-4673a5bf0560"
      },
      "execution_count": 7,
      "outputs": [
        {
          "output_type": "stream",
          "name": "stdout",
          "text": [
            "tag: Saúde\n",
            "text:\n",
            "Exames Laboratoriais\n",
            "✅ Nota salva com sucesso!\n"
          ]
        }
      ]
    },
    {
      "cell_type": "code",
      "source": [],
      "metadata": {
        "id": "743Nc-5nGW2n"
      },
      "execution_count": null,
      "outputs": []
    }
  ]
}